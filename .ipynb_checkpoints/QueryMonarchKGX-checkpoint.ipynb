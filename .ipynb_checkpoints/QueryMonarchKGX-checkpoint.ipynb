{
 "cells": [
  {
   "cell_type": "code",
   "execution_count": 74,
   "id": "24843449",
   "metadata": {},
   "outputs": [],
   "source": [
    "import pandas as pd\n",
    "pd.set_option('display.max_colwidth', None)"
   ]
  },
  {
   "cell_type": "code",
   "execution_count": 15,
   "id": "c5508f74",
   "metadata": {},
   "outputs": [],
   "source": [
    "monarch = pd.read_csv(\"monarch-kg_edges.tsv\", sep=\"\\t\", dtype=str)\n",
    "nodes = pd.read_csv(\"monarch-kg_nodes.tsv\", sep=\"\\t\", dtype=str)"
   ]
  },
  {
   "cell_type": "code",
   "execution_count": 44,
   "id": "495a18db",
   "metadata": {},
   "outputs": [
    {
     "data": {
      "text/plain": [
       "'mrx11'"
      ]
     },
     "execution_count": 44,
     "metadata": {},
     "output_type": "execute_result"
    }
   ],
   "source": [
    "label_map = {\n",
    "    \"names\":dict(zip(nodes['id'].tolist(), nodes['name'].tolist())),\n",
    "    \"symbols\":dict(zip(nodes['id'].tolist(), nodes['symbol'].tolist()))\n",
    "}\n",
    "\n",
    "def get_node_label(label_map, curie):\n",
    "    if isinstance(label_map['names'][curie], str):\n",
    "        return label_map['names'][curie]\n",
    "    elif isinstance(label_map['symbols'][curie], str):\n",
    "        return label_map['symbols'][curie]   \n",
    "\n",
    "get_node_label(label_map, 'PomBase:SPAC1002.01')"
   ]
  },
  {
   "cell_type": "code",
   "execution_count": 3,
   "id": "a2058442",
   "metadata": {},
   "outputs": [],
   "source": [
    "onset = ['HP:0003581','HP:0011462','HP:0003584','HP:0003596']"
   ]
  },
  {
   "cell_type": "code",
   "execution_count": 4,
   "id": "31cf010b",
   "metadata": {},
   "outputs": [],
   "source": [
    "any_onset = monarch.loc[(monarch['onset_qualifier'].isin(onset))]"
   ]
  },
  {
   "cell_type": "code",
   "execution_count": 5,
   "id": "dd176505",
   "metadata": {},
   "outputs": [],
   "source": [
    "diseases_with_onset = any_onset['subject'].tolist()"
   ]
  },
  {
   "cell_type": "code",
   "execution_count": 6,
   "id": "55309aac",
   "metadata": {},
   "outputs": [],
   "source": [
    "gene_predicates = ['biolink:contributes_to', 'biolink:affects_risk_for', 'biolink:gene_associated_with_condition']"
   ]
  },
  {
   "cell_type": "code",
   "execution_count": 7,
   "id": "6605b971",
   "metadata": {},
   "outputs": [],
   "source": [
    "g2d = monarch[(monarch['predicate'].isin(gene_predicates)) & (monarch['object'].str.contains(\"MONDO\"))]"
   ]
  },
  {
   "cell_type": "code",
   "execution_count": 8,
   "id": "53ceb8f5",
   "metadata": {},
   "outputs": [],
   "source": [
    "merged = pd.merge(how='inner', left=any_onset, right=g2d, left_on='subject', right_on=\"object\")"
   ]
  },
  {
   "cell_type": "code",
   "execution_count": 9,
   "id": "00bcf762",
   "metadata": {},
   "outputs": [
    {
     "data": {
      "text/plain": [
       "Index(['id_x', 'original_subject_x', 'predicate_x', 'original_object_x',\n",
       "       'category_x', 'aggregator_knowledge_source_x', 'has_evidence_x',\n",
       "       'primary_knowledge_source_x', 'provided_by_x', 'publications_x',\n",
       "       'frequency_qualifier_x', 'negated_x', 'onset_qualifier_x',\n",
       "       'sex_qualifier_x', 'qualifiers_x', 'evidence_x', 'relation_x',\n",
       "       'stage_qualifier_x', 'subject_x', 'object_x', 'id_y',\n",
       "       'original_subject_y', 'predicate_y', 'original_object_y', 'category_y',\n",
       "       'aggregator_knowledge_source_y', 'has_evidence_y',\n",
       "       'primary_knowledge_source_y', 'provided_by_y', 'publications_y',\n",
       "       'frequency_qualifier_y', 'negated_y', 'onset_qualifier_y',\n",
       "       'sex_qualifier_y', 'qualifiers_y', 'evidence_y', 'relation_y',\n",
       "       'stage_qualifier_y', 'subject_y', 'object_y'],\n",
       "      dtype='object')"
      ]
     },
     "execution_count": 9,
     "metadata": {},
     "output_type": "execute_result"
    }
   ],
   "source": [
    "merged.columns"
   ]
  },
  {
   "cell_type": "code",
   "execution_count": 10,
   "id": "c37ccf5c",
   "metadata": {},
   "outputs": [],
   "source": [
    "g2d2p_onset_df = merged[['subject_y', 'predicate_y','object_y', 'predicate_x', 'object_x', 'onset_qualifier_x' ]]"
   ]
  },
  {
   "cell_type": "code",
   "execution_count": 51,
   "id": "b82e600d",
   "metadata": {},
   "outputs": [
    {
     "name": "stderr",
     "output_type": "stream",
     "text": [
      "/var/folders/lm/x4jknky50yx5flf2vznggl380000gp/T/ipykernel_52541/2807709874.py:1: SettingWithCopyWarning: \n",
      "A value is trying to be set on a copy of a slice from a DataFrame.\n",
      "Try using .loc[row_indexer,col_indexer] = value instead\n",
      "\n",
      "See the caveats in the documentation: https://pandas.pydata.org/pandas-docs/stable/user_guide/indexing.html#returning-a-view-versus-a-copy\n",
      "  g2d2p_onset_df['onset_label'] = g2d2p_onset_df['onset_qualifier_x'].apply(lambda x: get_node_label(label_map,x))\n",
      "/var/folders/lm/x4jknky50yx5flf2vznggl380000gp/T/ipykernel_52541/2807709874.py:2: SettingWithCopyWarning: \n",
      "A value is trying to be set on a copy of a slice from a DataFrame.\n",
      "Try using .loc[row_indexer,col_indexer] = value instead\n",
      "\n",
      "See the caveats in the documentation: https://pandas.pydata.org/pandas-docs/stable/user_guide/indexing.html#returning-a-view-versus-a-copy\n",
      "  g2d2p_onset_df['subject_label'] = g2d2p_onset_df['subject_y'].apply(lambda x: get_node_label(label_map,x))\n",
      "/var/folders/lm/x4jknky50yx5flf2vznggl380000gp/T/ipykernel_52541/2807709874.py:3: SettingWithCopyWarning: \n",
      "A value is trying to be set on a copy of a slice from a DataFrame.\n",
      "Try using .loc[row_indexer,col_indexer] = value instead\n",
      "\n",
      "See the caveats in the documentation: https://pandas.pydata.org/pandas-docs/stable/user_guide/indexing.html#returning-a-view-versus-a-copy\n",
      "  g2d2p_onset_df['disease_label'] = g2d2p_onset_df['object_y'].apply(lambda x: get_node_label(label_map,x))\n",
      "/var/folders/lm/x4jknky50yx5flf2vznggl380000gp/T/ipykernel_52541/2807709874.py:4: SettingWithCopyWarning: \n",
      "A value is trying to be set on a copy of a slice from a DataFrame.\n",
      "Try using .loc[row_indexer,col_indexer] = value instead\n",
      "\n",
      "See the caveats in the documentation: https://pandas.pydata.org/pandas-docs/stable/user_guide/indexing.html#returning-a-view-versus-a-copy\n",
      "  g2d2p_onset_df['phenotype_label'] = g2d2p_onset_df['object_y'].apply(lambda x: get_node_label(label_map,x))\n"
     ]
    }
   ],
   "source": [
    "g2d2p_onset_df['onset_label'] = g2d2p_onset_df['onset_qualifier_x'].apply(lambda x: get_node_label(label_map,x))\n",
    "g2d2p_onset_df['subject_label'] = g2d2p_onset_df['subject_y'].apply(lambda x: get_node_label(label_map,x))\n",
    "g2d2p_onset_df['disease_label'] = g2d2p_onset_df['object_y'].apply(lambda x: get_node_label(label_map,x))\n",
    "g2d2p_onset_df['phenotype_label'] = g2d2p_onset_df['object_y'].apply(lambda x: get_node_label(label_map,x))"
   ]
  },
  {
   "cell_type": "code",
   "execution_count": 65,
   "id": "e6048746",
   "metadata": {},
   "outputs": [],
   "source": [
    "g2d2p_df = g2d2p_onset_df[['subject_y', 'subject_label','predicate_y', 'object_y', 'disease_label', 'predicate_x', 'object_x', 'phenotype_label',\n",
    "       'onset_qualifier_x', 'onset_label']]"
   ]
  },
  {
   "cell_type": "code",
   "execution_count": 66,
   "id": "50e7ebc7",
   "metadata": {},
   "outputs": [
    {
     "data": {
      "text/html": [
       "<div>\n",
       "<style scoped>\n",
       "    .dataframe tbody tr th:only-of-type {\n",
       "        vertical-align: middle;\n",
       "    }\n",
       "\n",
       "    .dataframe tbody tr th {\n",
       "        vertical-align: top;\n",
       "    }\n",
       "\n",
       "    .dataframe thead th {\n",
       "        text-align: right;\n",
       "    }\n",
       "</style>\n",
       "<table border=\"1\" class=\"dataframe\">\n",
       "  <thead>\n",
       "    <tr style=\"text-align: right;\">\n",
       "      <th></th>\n",
       "      <th>subject_y</th>\n",
       "      <th>subject_label</th>\n",
       "      <th>predicate_y</th>\n",
       "      <th>object_y</th>\n",
       "      <th>disease_label</th>\n",
       "      <th>predicate_x</th>\n",
       "      <th>object_x</th>\n",
       "      <th>phenotype_label</th>\n",
       "      <th>onset_qualifier_x</th>\n",
       "      <th>onset_label</th>\n",
       "    </tr>\n",
       "  </thead>\n",
       "  <tbody>\n",
       "    <tr>\n",
       "      <th>0</th>\n",
       "      <td>HGNC:15598</td>\n",
       "      <td>hepcidin antimicrobial peptide</td>\n",
       "      <td>biolink:gene_associated_with_condition</td>\n",
       "      <td>MONDO:0013220</td>\n",
       "      <td>hemochromatosis type 2B</td>\n",
       "      <td>biolink:has_phenotype</td>\n",
       "      <td>HP:0000869</td>\n",
       "      <td>hemochromatosis type 2B</td>\n",
       "      <td>HP:0011462</td>\n",
       "      <td>Young adult onset (HPO)</td>\n",
       "    </tr>\n",
       "    <tr>\n",
       "      <th>1</th>\n",
       "      <td>HGNC:4623</td>\n",
       "      <td>glutathione-disulfide reductase</td>\n",
       "      <td>biolink:gene_associated_with_condition</td>\n",
       "      <td>MONDO:0019531</td>\n",
       "      <td>hemolytic anemia due to glutathione reductase ...</td>\n",
       "      <td>biolink:has_phenotype</td>\n",
       "      <td>HP:0000518</td>\n",
       "      <td>hemolytic anemia due to glutathione reductase ...</td>\n",
       "      <td>HP:0003581</td>\n",
       "      <td>Adult onset (HPO)</td>\n",
       "    </tr>\n",
       "    <tr>\n",
       "      <th>2</th>\n",
       "      <td>HGNC:3603</td>\n",
       "      <td>fibrillin 1</td>\n",
       "      <td>biolink:gene_associated_with_condition</td>\n",
       "      <td>MONDO:0008492</td>\n",
       "      <td>stiff skin syndrome</td>\n",
       "      <td>biolink:has_phenotype</td>\n",
       "      <td>HP:0000518</td>\n",
       "      <td>stiff skin syndrome</td>\n",
       "      <td>HP:0003596</td>\n",
       "      <td>Middle age onset (HPO)</td>\n",
       "    </tr>\n",
       "    <tr>\n",
       "      <th>3</th>\n",
       "      <td>HGNC:20788</td>\n",
       "      <td>rhomboid 5 homolog 2</td>\n",
       "      <td>biolink:gene_associated_with_condition</td>\n",
       "      <td>MONDO:0007856</td>\n",
       "      <td>palmoplantar keratoderma-esophageal carcinoma ...</td>\n",
       "      <td>biolink:has_phenotype</td>\n",
       "      <td>HP:0011459</td>\n",
       "      <td>palmoplantar keratoderma-esophageal carcinoma ...</td>\n",
       "      <td>HP:0003581</td>\n",
       "      <td>Adult onset (HPO)</td>\n",
       "    </tr>\n",
       "    <tr>\n",
       "      <th>4</th>\n",
       "      <td>HGNC:2023</td>\n",
       "      <td>chloride voltage-gated channel 5</td>\n",
       "      <td>biolink:gene_associated_with_condition</td>\n",
       "      <td>MONDO:0010225</td>\n",
       "      <td>Dent disease type 1</td>\n",
       "      <td>biolink:has_phenotype</td>\n",
       "      <td>HP:0000083</td>\n",
       "      <td>Dent disease type 1</td>\n",
       "      <td>HP:0003581</td>\n",
       "      <td>Adult onset (HPO)</td>\n",
       "    </tr>\n",
       "    <tr>\n",
       "      <th>...</th>\n",
       "      <td>...</td>\n",
       "      <td>...</td>\n",
       "      <td>...</td>\n",
       "      <td>...</td>\n",
       "      <td>...</td>\n",
       "      <td>...</td>\n",
       "      <td>...</td>\n",
       "      <td>...</td>\n",
       "      <td>...</td>\n",
       "      <td>...</td>\n",
       "    </tr>\n",
       "    <tr>\n",
       "      <th>289</th>\n",
       "      <td>HGNC:20716</td>\n",
       "      <td>kinesin light chain 2</td>\n",
       "      <td>biolink:gene_associated_with_condition</td>\n",
       "      <td>MONDO:0012297</td>\n",
       "      <td>SPOAN syndrome</td>\n",
       "      <td>biolink:has_phenotype</td>\n",
       "      <td>HP:0003693</td>\n",
       "      <td>SPOAN syndrome</td>\n",
       "      <td>HP:0011462</td>\n",
       "      <td>Young adult onset (HPO)</td>\n",
       "    </tr>\n",
       "    <tr>\n",
       "      <th>290</th>\n",
       "      <td>HGNC:20716</td>\n",
       "      <td>kinesin light chain 2</td>\n",
       "      <td>biolink:gene_associated_with_condition</td>\n",
       "      <td>MONDO:0012297</td>\n",
       "      <td>SPOAN syndrome</td>\n",
       "      <td>biolink:has_phenotype</td>\n",
       "      <td>HP:0001260</td>\n",
       "      <td>SPOAN syndrome</td>\n",
       "      <td>HP:0011462</td>\n",
       "      <td>Young adult onset (HPO)</td>\n",
       "    </tr>\n",
       "    <tr>\n",
       "      <th>291</th>\n",
       "      <td>HGNC:2865</td>\n",
       "      <td>desert hedgehog signaling molecule</td>\n",
       "      <td>biolink:gene_associated_with_condition</td>\n",
       "      <td>MONDO:0011766</td>\n",
       "      <td>46,XY gonadal dysgenesis-motor and sensory neu...</td>\n",
       "      <td>biolink:has_phenotype</td>\n",
       "      <td>HP:0000786</td>\n",
       "      <td>46,XY gonadal dysgenesis-motor and sensory neu...</td>\n",
       "      <td>HP:0011462</td>\n",
       "      <td>Young adult onset (HPO)</td>\n",
       "    </tr>\n",
       "    <tr>\n",
       "      <th>292</th>\n",
       "      <td>HGNC:5031</td>\n",
       "      <td>heterogeneous nuclear ribonucleoprotein A1</td>\n",
       "      <td>biolink:gene_associated_with_condition</td>\n",
       "      <td>MONDO:0014181</td>\n",
       "      <td>amyotrophic lateral sclerosis type 20</td>\n",
       "      <td>biolink:has_phenotype</td>\n",
       "      <td>HP:0003560</td>\n",
       "      <td>amyotrophic lateral sclerosis type 20</td>\n",
       "      <td>HP:0003584</td>\n",
       "      <td>Late onset (HPO)</td>\n",
       "    </tr>\n",
       "    <tr>\n",
       "      <th>293</th>\n",
       "      <td>HGNC:13797</td>\n",
       "      <td>periaxin</td>\n",
       "      <td>biolink:gene_associated_with_condition</td>\n",
       "      <td>MONDO:0013959</td>\n",
       "      <td>Charcot-Marie-Tooth disease type 4F</td>\n",
       "      <td>biolink:has_phenotype</td>\n",
       "      <td>HP:0002505</td>\n",
       "      <td>Charcot-Marie-Tooth disease type 4F</td>\n",
       "      <td>HP:0003581</td>\n",
       "      <td>Adult onset (HPO)</td>\n",
       "    </tr>\n",
       "  </tbody>\n",
       "</table>\n",
       "<p>294 rows × 10 columns</p>\n",
       "</div>"
      ],
      "text/plain": [
       "      subject_y                               subject_label  \\\n",
       "0    HGNC:15598              hepcidin antimicrobial peptide   \n",
       "1     HGNC:4623             glutathione-disulfide reductase   \n",
       "2     HGNC:3603                                 fibrillin 1   \n",
       "3    HGNC:20788                        rhomboid 5 homolog 2   \n",
       "4     HGNC:2023            chloride voltage-gated channel 5   \n",
       "..          ...                                         ...   \n",
       "289  HGNC:20716                       kinesin light chain 2   \n",
       "290  HGNC:20716                       kinesin light chain 2   \n",
       "291   HGNC:2865          desert hedgehog signaling molecule   \n",
       "292   HGNC:5031  heterogeneous nuclear ribonucleoprotein A1   \n",
       "293  HGNC:13797                                    periaxin   \n",
       "\n",
       "                                predicate_y       object_y  \\\n",
       "0    biolink:gene_associated_with_condition  MONDO:0013220   \n",
       "1    biolink:gene_associated_with_condition  MONDO:0019531   \n",
       "2    biolink:gene_associated_with_condition  MONDO:0008492   \n",
       "3    biolink:gene_associated_with_condition  MONDO:0007856   \n",
       "4    biolink:gene_associated_with_condition  MONDO:0010225   \n",
       "..                                      ...            ...   \n",
       "289  biolink:gene_associated_with_condition  MONDO:0012297   \n",
       "290  biolink:gene_associated_with_condition  MONDO:0012297   \n",
       "291  biolink:gene_associated_with_condition  MONDO:0011766   \n",
       "292  biolink:gene_associated_with_condition  MONDO:0014181   \n",
       "293  biolink:gene_associated_with_condition  MONDO:0013959   \n",
       "\n",
       "                                         disease_label            predicate_x  \\\n",
       "0                              hemochromatosis type 2B  biolink:has_phenotype   \n",
       "1    hemolytic anemia due to glutathione reductase ...  biolink:has_phenotype   \n",
       "2                                  stiff skin syndrome  biolink:has_phenotype   \n",
       "3    palmoplantar keratoderma-esophageal carcinoma ...  biolink:has_phenotype   \n",
       "4                                  Dent disease type 1  biolink:has_phenotype   \n",
       "..                                                 ...                    ...   \n",
       "289                                     SPOAN syndrome  biolink:has_phenotype   \n",
       "290                                     SPOAN syndrome  biolink:has_phenotype   \n",
       "291  46,XY gonadal dysgenesis-motor and sensory neu...  biolink:has_phenotype   \n",
       "292              amyotrophic lateral sclerosis type 20  biolink:has_phenotype   \n",
       "293                Charcot-Marie-Tooth disease type 4F  biolink:has_phenotype   \n",
       "\n",
       "       object_x                                    phenotype_label  \\\n",
       "0    HP:0000869                            hemochromatosis type 2B   \n",
       "1    HP:0000518  hemolytic anemia due to glutathione reductase ...   \n",
       "2    HP:0000518                                stiff skin syndrome   \n",
       "3    HP:0011459  palmoplantar keratoderma-esophageal carcinoma ...   \n",
       "4    HP:0000083                                Dent disease type 1   \n",
       "..          ...                                                ...   \n",
       "289  HP:0003693                                     SPOAN syndrome   \n",
       "290  HP:0001260                                     SPOAN syndrome   \n",
       "291  HP:0000786  46,XY gonadal dysgenesis-motor and sensory neu...   \n",
       "292  HP:0003560              amyotrophic lateral sclerosis type 20   \n",
       "293  HP:0002505                Charcot-Marie-Tooth disease type 4F   \n",
       "\n",
       "    onset_qualifier_x              onset_label  \n",
       "0          HP:0011462  Young adult onset (HPO)  \n",
       "1          HP:0003581        Adult onset (HPO)  \n",
       "2          HP:0003596   Middle age onset (HPO)  \n",
       "3          HP:0003581        Adult onset (HPO)  \n",
       "4          HP:0003581        Adult onset (HPO)  \n",
       "..                ...                      ...  \n",
       "289        HP:0011462  Young adult onset (HPO)  \n",
       "290        HP:0011462  Young adult onset (HPO)  \n",
       "291        HP:0011462  Young adult onset (HPO)  \n",
       "292        HP:0003584         Late onset (HPO)  \n",
       "293        HP:0003581        Adult onset (HPO)  \n",
       "\n",
       "[294 rows x 10 columns]"
      ]
     },
     "execution_count": 66,
     "metadata": {},
     "output_type": "execute_result"
    }
   ],
   "source": [
    "g2d2p_df"
   ]
  },
  {
   "cell_type": "code",
   "execution_count": 70,
   "id": "7355d741",
   "metadata": {},
   "outputs": [],
   "source": [
    "onsets = list(monarch['onset_qualifier'].unique())"
   ]
  },
  {
   "cell_type": "code",
   "execution_count": 86,
   "id": "d2bc669f",
   "metadata": {},
   "outputs": [
    {
     "data": {
      "text/plain": [
       "11"
      ]
     },
     "execution_count": 86,
     "metadata": {},
     "output_type": "execute_result"
    }
   ],
   "source": [
    "len(nodes[nodes['id'].isin(onsets)][['id', 'name', 'description']]['id'].tolist())"
   ]
  },
  {
   "cell_type": "code",
   "execution_count": 76,
   "id": "51ddb958",
   "metadata": {},
   "outputs": [],
   "source": [
    "!cp /Users/putmanti/Downloads/phenotype.hpoa ."
   ]
  },
  {
   "cell_type": "code",
   "execution_count": 77,
   "id": "36ee8016",
   "metadata": {},
   "outputs": [
    {
     "name": "stdout",
     "output_type": "stream",
     "text": [
      "/Users/putmanti/CODE/megan_temp\r\n"
     ]
    }
   ],
   "source": [
    "!pwd"
   ]
  },
  {
   "cell_type": "code",
   "execution_count": 85,
   "id": "a7183007",
   "metadata": {},
   "outputs": [
    {
     "name": "stderr",
     "output_type": "stream",
     "text": [
      "/var/folders/lm/x4jknky50yx5flf2vznggl380000gp/T/ipykernel_52541/433027155.py:1: DtypeWarning: Columns (2,6,8,9) have mixed types. Specify dtype option on import or set low_memory=False.\n",
      "  len(set(list(pd.read_csv(\"phenotype.hpoa\", sep=\"\\t\")['onset'].unique())))\n"
     ]
    },
    {
     "data": {
      "text/plain": [
       "17"
      ]
     },
     "execution_count": 85,
     "metadata": {},
     "output_type": "execute_result"
    }
   ],
   "source": [
    "list(pd.read_csv(\"phenotype.hpoa\", sep=\"\\t\")['onset'].unique())))"
   ]
  },
  {
   "cell_type": "code",
   "execution_count": null,
   "id": "b9bb4458",
   "metadata": {},
   "outputs": [],
   "source": []
  }
 ],
 "metadata": {
  "kernelspec": {
   "display_name": "Python 3 (ipykernel)",
   "language": "python",
   "name": "python3"
  },
  "language_info": {
   "codemirror_mode": {
    "name": "ipython",
    "version": 3
   },
   "file_extension": ".py",
   "mimetype": "text/x-python",
   "name": "python",
   "nbconvert_exporter": "python",
   "pygments_lexer": "ipython3",
   "version": "3.11.2"
  }
 },
 "nbformat": 4,
 "nbformat_minor": 5
}
