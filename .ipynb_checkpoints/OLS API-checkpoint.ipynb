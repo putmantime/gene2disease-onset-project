{
 "cells": [
  {
   "cell_type": "code",
   "execution_count": 53,
   "id": "958cc457",
   "metadata": {},
   "outputs": [],
   "source": [
    "import requests\n",
    "import urllib.parse\n",
    "from pprint import pprint"
   ]
  },
  {
   "cell_type": "code",
   "execution_count": 49,
   "id": "232d70c7",
   "metadata": {},
   "outputs": [],
   "source": [
    "ontology = \"mondo\"\n",
    "term = \"http%253A%252F%252Fpurl.obolibrary.org%252Fobo%252FMONDO_0019303\"\n",
    "term_test = urllib.parse.quote(\"http://purl.obolibrary.org/obo/MONDO_0019303\")\n",
    "ols_endpoint = f\"http://www.ebi.ac.uk/ols/api/ontologies/{ontology}/terms/{term}\""
   ]
  },
  {
   "cell_type": "code",
   "execution_count": 66,
   "id": "6ea67ee0",
   "metadata": {},
   "outputs": [],
   "source": [
    "term_request = requests.get(ols_endpoint)\n",
    "term = term_request.json()\n",
    "params = {\"size\": 500}\n",
    "descendents_url = term['_links']['hierarchicalDescendants']['href']\n",
    "descendents_request = requests.get(descendents_url, params=params)\n",
    "descendents = descendents_request.json()"
   ]
  },
  {
   "cell_type": "code",
   "execution_count": 72,
   "id": "6bd3bd8e",
   "metadata": {},
   "outputs": [
    {
     "ename": "TypeError",
     "evalue": "list indices must be integers or slices, not str",
     "output_type": "error",
     "traceback": [
      "\u001b[0;31m---------------------------------------------------------------------------\u001b[0m",
      "\u001b[0;31mTypeError\u001b[0m                                 Traceback (most recent call last)",
      "Cell \u001b[0;32mIn[72], line 12\u001b[0m\n\u001b[1;32m     10\u001b[0m parents \u001b[38;5;241m=\u001b[39m parent_request\u001b[38;5;241m.\u001b[39mjson()\n\u001b[1;32m     11\u001b[0m \u001b[38;5;28;01mfor\u001b[39;00m pterm \u001b[38;5;129;01min\u001b[39;00m parents[\u001b[38;5;124m'\u001b[39m\u001b[38;5;124m_embedded\u001b[39m\u001b[38;5;124m'\u001b[39m][\u001b[38;5;124m'\u001b[39m\u001b[38;5;124mterms\u001b[39m\u001b[38;5;124m'\u001b[39m]:\n\u001b[0;32m---> 12\u001b[0m     \u001b[43mdescendent_data\u001b[49m\u001b[43m[\u001b[49m\u001b[38;5;124;43m'\u001b[39;49m\u001b[38;5;124;43mparents\u001b[39;49m\u001b[38;5;124;43m'\u001b[39;49m\u001b[43m]\u001b[49m\u001b[38;5;241m.\u001b[39mappend(pterm[\u001b[38;5;124m'\u001b[39m\u001b[38;5;124miri\u001b[39m\u001b[38;5;124m'\u001b[39m])\n",
      "\u001b[0;31mTypeError\u001b[0m: list indices must be integers or slices, not str"
     ]
    }
   ],
   "source": [
    "descendent_data = []\n",
    "for dterm in descendents['_embedded']['terms']:\n",
    "    descendent_data.append({\n",
    "        'iri': dterm['iri'],\n",
    "        'label': dterm['label'],\n",
    "        'ontology': dterm['ontology_name'],\n",
    "        'parents': []\n",
    "    })\n",
    "    parent_request = requests.get(dterm['_links']['parents']['href'])\n",
    "    parents = parent_request.json()\n",
    "    for pterm in parents['_embedded']['terms']:\n",
    "        print(pterm['iri'])\n",
    "#         descendent_data['parents'].append(pterm['iri'])"
   ]
  },
  {
   "cell_type": "code",
   "execution_count": 57,
   "id": "a25f1990",
   "metadata": {},
   "outputs": [
    {
     "name": "stdout",
     "output_type": "stream",
     "text": [
      "'https://www.ebi.ac.uk/ols/api/ontologies/mondo/terms/http%253A%252F%252Fpurl.obolibrary.org%252Fobo%252FMONDO_0019303/hierarchicalDescendants'\n"
     ]
    }
   ],
   "source": []
  },
  {
   "cell_type": "code",
   "execution_count": null,
   "id": "a1e4a1b2",
   "metadata": {},
   "outputs": [],
   "source": []
  }
 ],
 "metadata": {
  "kernelspec": {
   "display_name": "Python 3 (ipykernel)",
   "language": "python",
   "name": "python3"
  },
  "language_info": {
   "codemirror_mode": {
    "name": "ipython",
    "version": 3
   },
   "file_extension": ".py",
   "mimetype": "text/x-python",
   "name": "python",
   "nbconvert_exporter": "python",
   "pygments_lexer": "ipython3",
   "version": "3.9.6"
  }
 },
 "nbformat": 4,
 "nbformat_minor": 5
}
