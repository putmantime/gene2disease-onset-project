{
 "cells": [
  {
   "cell_type": "code",
   "execution_count": 5,
   "id": "318d69ae",
   "metadata": {},
   "outputs": [],
   "source": [
    "import requests\n",
    "from pprint import pprint\n",
    "import pandas as pd"
   ]
  },
  {
   "cell_type": "code",
   "execution_count": 6,
   "id": "ba7eea09",
   "metadata": {},
   "outputs": [],
   "source": [
    "ontology = \"mondo\"\n",
    "term = \"http%253A%252F%252Fpurl.obolibrary.org%252Fobo%252FMONDO_0019303\"\n",
    "ols_endpoint = f\"http://www.ebi.ac.uk/ols/api/ontologies/{ontology}/terms/{term}\""
   ]
  },
  {
   "cell_type": "code",
   "execution_count": 7,
   "id": "b41181f2",
   "metadata": {},
   "outputs": [],
   "source": [
    "term_request = requests.get(ols_endpoint)\n",
    "term = term_request.json()\n",
    "params = {\"size\": 500}\n",
    "descendents_url = term['_links']['hierarchicalDescendants']['href']\n",
    "descendents_request = requests.get(descendents_url, params=params)\n",
    "descendents = descendents_request.json()"
   ]
  },
  {
   "cell_type": "code",
   "execution_count": 12,
   "id": "3df3d130",
   "metadata": {},
   "outputs": [
    {
     "name": "stdout",
     "output_type": "stream",
     "text": [
      "0/103\n",
      "1/103\n",
      "2/103\n",
      "3/103\n",
      "4/103\n",
      "5/103\n",
      "6/103\n",
      "7/103\n",
      "8/103\n",
      "9/103\n",
      "10/103\n",
      "11/103\n",
      "12/103\n",
      "13/103\n",
      "14/103\n",
      "15/103\n",
      "16/103\n",
      "17/103\n",
      "18/103\n",
      "19/103\n",
      "20/103\n",
      "21/103\n",
      "22/103\n",
      "23/103\n",
      "24/103\n",
      "25/103\n",
      "26/103\n",
      "27/103\n",
      "28/103\n",
      "29/103\n",
      "30/103\n",
      "31/103\n",
      "32/103\n",
      "33/103\n",
      "34/103\n",
      "35/103\n",
      "36/103\n",
      "37/103\n",
      "38/103\n",
      "39/103\n",
      "40/103\n",
      "41/103\n",
      "42/103\n",
      "43/103\n",
      "44/103\n",
      "45/103\n",
      "46/103\n",
      "47/103\n",
      "48/103\n",
      "49/103\n",
      "50/103\n",
      "51/103\n",
      "52/103\n",
      "53/103\n",
      "54/103\n",
      "55/103\n",
      "56/103\n",
      "57/103\n",
      "58/103\n",
      "59/103\n",
      "60/103\n",
      "61/103\n",
      "62/103\n",
      "63/103\n",
      "64/103\n",
      "65/103\n",
      "66/103\n",
      "67/103\n",
      "68/103\n",
      "69/103\n",
      "70/103\n",
      "71/103\n",
      "72/103\n",
      "73/103\n",
      "74/103\n",
      "75/103\n",
      "76/103\n",
      "77/103\n",
      "78/103\n",
      "79/103\n",
      "80/103\n",
      "81/103\n",
      "82/103\n",
      "83/103\n",
      "84/103\n",
      "85/103\n",
      "86/103\n",
      "87/103\n",
      "88/103\n",
      "89/103\n",
      "90/103\n",
      "91/103\n",
      "92/103\n",
      "93/103\n",
      "94/103\n",
      "95/103\n",
      "96/103\n",
      "97/103\n",
      "98/103\n",
      "99/103\n",
      "100/103\n",
      "101/103\n",
      "102/103\n"
     ]
    }
   ],
   "source": [
    "descendent_data = []\n",
    "for index, dterm in enumerate(descendents['_embedded']['terms']):\n",
    "    print(f\"{index}/{len(descendents['_embedded']['terms'])}\")\n",
    "    data = {\n",
    "        'iri': dterm['iri'],\n",
    "        'label': dterm['label'],\n",
    "        'ontology': dterm['ontology_name'],\n",
    "        'parents': []\n",
    "    }\n",
    "    parent_request = requests.get(dterm['_links']['parents']['href'])\n",
    "    parents = parent_request.json()\n",
    "    for pterm in parents['_embedded']['terms']:\n",
    "        data['parents'].append(pterm['iri'].split(\"/\")[-1].replace(\"_\", \":\"))\n",
    "    descendent_data.append(data)"
   ]
  },
  {
   "cell_type": "code",
   "execution_count": null,
   "id": "beea7779",
   "metadata": {},
   "outputs": [],
   "source": [
    "descendent_data"
   ]
  },
  {
   "cell_type": "code",
   "execution_count": null,
   "id": "e3397262",
   "metadata": {},
   "outputs": [],
   "source": [
    "pd.DataFrame(descendent_data)"
   ]
  },
  {
   "cell_type": "code",
   "execution_count": null,
   "id": "d6bbb824",
   "metadata": {},
   "outputs": [],
   "source": []
  }
 ],
 "metadata": {
  "kernelspec": {
   "display_name": "Python 3 (ipykernel)",
   "language": "python",
   "name": "python3"
  },
  "language_info": {
   "codemirror_mode": {
    "name": "ipython",
    "version": 3
   },
   "file_extension": ".py",
   "mimetype": "text/x-python",
   "name": "python",
   "nbconvert_exporter": "python",
   "pygments_lexer": "ipython3",
   "version": "3.9.6"
  }
 },
 "nbformat": 4,
 "nbformat_minor": 5
}
